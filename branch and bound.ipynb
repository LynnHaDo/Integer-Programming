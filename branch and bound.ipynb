{
 "cells": [
  {
   "cell_type": "markdown",
   "id": "e92c8687",
   "metadata": {},
   "source": [
    "## Branch and Bound Method for Integer Programming\n",
    "\n",
    "First we import these modules"
   ]
  },
  {
   "cell_type": "code",
   "execution_count": 1,
   "id": "a29d8ac7",
   "metadata": {},
   "outputs": [],
   "source": [
    "import scipy\n",
    "import numpy as np\n",
    "import itertools"
   ]
  },
  {
   "cell_type": "markdown",
   "id": "68fbda00",
   "metadata": {},
   "source": [
    "#### Branch and Bound"
   ]
  },
  {
   "cell_type": "code",
   "execution_count": 55,
   "id": "b69492a6",
   "metadata": {},
   "outputs": [],
   "source": [
    "def branch_and_bound(c, A, b, lb, ub, isMax = False, depth = 1):\n",
    "    \"\"\"\n",
    "    Implementation of branch and bound method\n",
    "    \n",
    "    Args:\n",
    "        c: profit vector\n",
    "        isMax: whether it is a maximization or minimization problem\n",
    "        lb, ub: vectors indicate the lower bound and upper bound of all decision variables\n",
    "        depth: the depth of the tree\n",
    "    \"\"\"\n",
    "    n = len(c)\n",
    "\n",
    "    # Optimal solution for LP relaxation\n",
    "    c = -c if isMax else c\n",
    "    res = scipy.optimize.linprog(c=c, A_ub=A, b_ub=b, bounds = list(zip(lb, ub)))\n",
    "\n",
    "    # Check if LP is feasible\n",
    "    if not res.success:\n",
    "        return [], -np.inf if isMax else np.inf, depth\n",
    "    \n",
    "    # Candidate for the optimal value and the objective value\n",
    "    x_candidate, z_candidate = res.x, res.fun\n",
    "    z_candidate = -z_candidate if isMax else z_candidate\n",
    "    \n",
    "    print(x_candidate)\n",
    "    print(z_candidate)\n",
    "    \n",
    "    # Correct sign for maximization\n",
    "    is_int = True \n",
    "    for i in range(n):\n",
    "        # If x_i is not integer\n",
    "        if not x_candidate[i] % 1 == 0:\n",
    "            is_int = False\n",
    "            break\n",
    "\n",
    "    if is_int:\n",
    "        return x_candidate, z_candidate, depth\n",
    "    \n",
    "    # Branch on the first non-integer variable\n",
    "    for i in range(n):\n",
    "        if not x_candidate[i] % 1 == 0:\n",
    "            # Left branch: x_i <= floor(x_i)\n",
    "            left_lb = np.copy(lb)\n",
    "            left_ub = np.copy(ub)\n",
    "            left_ub[i] = np.floor(x_candidate[i])\n",
    "            x_left, z_left, depth_left = branch_and_bound(c, A, b, left_lb, left_ub, isMax, depth + 1)\n",
    "\n",
    "            # Right branch: x_i >= ceil(x_i)\n",
    "            right_lb = np.copy(lb)     \n",
    "            right_ub = np.copy(ub) \n",
    "            right_lb[i] = np.ceil(x_candidate[i])\n",
    "            x_right, z_right, depth_right = branch_and_bound(c, A, b, right_lb, right_ub, isMax, depth + 1)\n",
    "\n",
    "            # Return the best solution\n",
    "            # For max problem, return the branch with greater z\n",
    "            if isMax:\n",
    "                if(abs(z_left) > abs(z_right)):\n",
    "                    return x_left, abs(z_left), depth_left\n",
    "                else: \n",
    "                    return x_right, abs(z_right), depth_right\n",
    "            # For min problem, return the branch with smaller z\n",
    "            else:\n",
    "                if(abs(z_left) < abs(z_right)):\n",
    "                    return x_left, abs(z_left), depth_left\n",
    "                else: \n",
    "                    return x_right, abs(z_right), depth_right  "
   ]
  },
  {
   "cell_type": "markdown",
   "id": "bdbbb2d7",
   "metadata": {},
   "source": [
    "#### Constraint vector A"
   ]
  },
  {
   "cell_type": "code",
   "execution_count": 30,
   "id": "26df0551",
   "metadata": {},
   "outputs": [],
   "source": [
    "def matrix_A(num_vars, ov_pairs):\n",
    "    # Number of columns is the number of variables\n",
    "    cols = num_vars\n",
    "    # Number of rows is the number of all possible pair of the variables\n",
    "    rows = len(ov_pairs)\n",
    "    A = np.zeros((rows, cols))\n",
    "\n",
    "    # All possible permutations of column entry\n",
    "    # permutations = list(itertools.combinations(range(cols), 2))\n",
    "\n",
    "    # Generate matrix A by letting the two column entries in each permutation (row) equal to 1 \n",
    "    for i in range(rows):\n",
    "        A[i][ov_pairs[i][0]] = 1\n",
    "        A[i][ov_pairs[i][1]] = 1\n",
    "    return A"
   ]
  },
  {
   "cell_type": "markdown",
   "id": "38f8376f",
   "metadata": {},
   "source": [
    "#### Test"
   ]
  },
  {
   "cell_type": "code",
   "execution_count": 22,
   "id": "c40f7dc9",
   "metadata": {},
   "outputs": [],
   "source": [
    "def is_overlapping(s1, e1, s2, e2):\n",
    "    if (e1 <= s2 or s1 >= e2):\n",
    "        return False \n",
    "    return True\n",
    "\n",
    "def overlapping_pairs(start, end):\n",
    "    d = {}\n",
    "    n = len(start)\n",
    "    \n",
    "    for i in range(n):\n",
    "        s1, e1 = start[i], end[i]\n",
    "        d[i] = []\n",
    "        for j in range(i+1, n):\n",
    "            s2, e2 = start[j], end[j]\n",
    "            if (is_overlapping(s1, e1, s2, e2)):\n",
    "                d[i] += [j]\n",
    "    pairs = []\n",
    "    for k in d:\n",
    "        for val in d[k]:\n",
    "            pairs.append([k, val])\n",
    "    \n",
    "    return pairs\n",
    "    "
   ]
  },
  {
   "cell_type": "code",
   "execution_count": 58,
   "id": "ed5b6bfc",
   "metadata": {},
   "outputs": [
    {
     "name": "stdout",
     "output_type": "stream",
     "text": [
      "[[1. 1. 0. 0.]\n",
      " [0. 1. 1. 0.]\n",
      " [0. 1. 0. 1.]\n",
      " [0. 0. 1. 1.]]\n",
      "[1. 1. 1. 1.]\n",
      "[ 1. -0.  0.  1.]\n",
      "120.0\n",
      "========= Optimal Solutions =========\n",
      "Variable:\n",
      ">  x0 = 1.0\n",
      ">  x1 = -0.0\n",
      ">  x2 = 0.0\n",
      ">  x3 = 1.0\n",
      "Objective Function:\n",
      ">  f = 120.0\n",
      "Tree depth: 1\n"
     ]
    }
   ],
   "source": [
    "# Objective Function Coefficient \n",
    "c = np.array([50,10,40,70])\n",
    "\n",
    "# Start, end times\n",
    "start = [1,2,3,3]\n",
    "end = [3,4,5,6]\n",
    "\n",
    "# Constraint\n",
    "cts = overlapping_pairs(start, end)\n",
    "decision_vars_count = len(start)\n",
    "A = matrix_A(decision_vars_count, cts)\n",
    "b = np.ones(len(cts))\n",
    "print(A)\n",
    "print(b)\n",
    "\n",
    "# Lower bound for each decision var \n",
    "lb = np.zeros(decision_vars_count)\n",
    "# Upper bound for each decision var \n",
    "ub = np.ones(decision_vars_count)\n",
    "\n",
    "x_optimal, f_optimal, depth_optimal = branch_and_bound(c, A, b, lb, ub, True)\n",
    "print(\"========= Optimal Solutions =========\")\n",
    "\n",
    "print(\"Variable:\")\n",
    "for idx, var in enumerate(x_optimal): \n",
    "    print(f\">  x{idx} = {var}\")\n",
    "\n",
    "print(\"Objective Function:\")\n",
    "print(f\">  f = {f_optimal}\")\n",
    "print(f\"Tree depth: {depth_optimal}\")"
   ]
  }
 ],
 "metadata": {
  "kernelspec": {
   "display_name": "base",
   "language": "python",
   "name": "python3"
  },
  "language_info": {
   "codemirror_mode": {
    "name": "ipython",
    "version": 3
   },
   "file_extension": ".py",
   "mimetype": "text/x-python",
   "name": "python",
   "nbconvert_exporter": "python",
   "pygments_lexer": "ipython3",
   "version": "3.10.9"
  }
 },
 "nbformat": 4,
 "nbformat_minor": 5
}
