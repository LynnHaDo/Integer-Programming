{
 "cells": [
  {
   "cell_type": "markdown",
   "id": "e92c8687",
   "metadata": {},
   "source": [
    "## Branch and Bound Method for Integer Programming\n",
    "\n",
    "First we import these modules"
   ]
  },
  {
   "cell_type": "code",
   "execution_count": 20,
   "id": "a29d8ac7",
   "metadata": {},
   "outputs": [],
   "source": [
    "import scipy\n",
    "import numpy as np\n",
    "import itertools"
   ]
  },
  {
   "cell_type": "markdown",
   "id": "68fbda00",
   "metadata": {},
   "source": [
    "#### Branch and Bound"
   ]
  },
  {
   "cell_type": "code",
   "execution_count": 21,
   "id": "b69492a6",
   "metadata": {},
   "outputs": [],
   "source": [
    "def branch_and_bound(c, A, b, lb, ub, isMax = False, depth = 1):\n",
    "    # c: profit vector\n",
    "    # isMax: whether it is a maximization or minimization problem\n",
    "    # lb, ub: vectors indicate the lower bound and upper bound of all decision variables\n",
    "    # depth: the depth of the tree\n",
    "\n",
    "    n = len(c)\n",
    "\n",
    "    # Optimal solution for LP relaxation\n",
    "    res = scipy.optimize.linprog(-c if isMax else c, A, b, bounds = list(zip(lb, ub)))\n",
    "\n",
    "    # Check if LP is feasible\n",
    "    if not res.success:\n",
    "        return [], -np.inf if isMax else np.inf, depth\n",
    "    \n",
    "    # Candidate for the optimal value and the objective value\n",
    "    x_candidate, z_candidate = res.x, res.fun\n",
    "    z_candidate = -z_candidate if isMax else z_candidate\n",
    "    # Correct sign for maximization\n",
    "\n",
    "    is_int = True \n",
    "    for i in range(n):\n",
    "        # If x_i is not integer\n",
    "        if not np.isclose(x_candidate[i],round(x_candidate[i])):\n",
    "            is_int = False\n",
    "            break\n",
    "\n",
    "    if is_int:\n",
    "        return x_candidate, z_candidate, depth\n",
    "    \n",
    "    # Branch on the first non-integer variable\n",
    "\n",
    "    for i in range(n):\n",
    "        if not np.isclose(x_candidate[i], round(x_candidate[i])):\n",
    "            # Left branch: x_i <= floor(x_i)\n",
    "            left_lb = np.copy(lb)\n",
    "            left_ub = np.copy(ub)\n",
    "            left_ub[i] = np.floor(x_candidate[i])\n",
    "            x_left, z_left, depth_left = branch_and_bound(c, A, b, left_lb, left_ub, isMax, depth + 1)\n",
    "\n",
    "            # Right branch: x_i >= ceil(x_i)\n",
    "            right_lb = np.copy(lb)     \n",
    "            right_ub = np.copy(ub) \n",
    "            right_lb[i] = np.ceil(x_candidate[i])\n",
    "            x_right, z_right, depth_right = branch_and_bound(c, A, b, right_lb, right_ub, isMax, depth + 1)\n",
    "\n",
    "            # Return the best solution\n",
    "            # For max problem, return the branch with greater z\n",
    "            if isMax:\n",
    "                if(z_left > z_right):\n",
    "                    return x_left, z_left, depth_left\n",
    "                else: \n",
    "                    return x_right, z_right, depth_right\n",
    "            # For min problem, return the branch with smaller z\n",
    "            else:\n",
    "                if(z_left < z_right):\n",
    "                    return x_left, z_left, depth_left\n",
    "                else: \n",
    "                    return x_right, z_right, depth_right            "
   ]
  },
  {
   "cell_type": "markdown",
   "id": "bdbbb2d7",
   "metadata": {},
   "source": [
    "#### Constraint vector A"
   ]
  },
  {
   "cell_type": "code",
   "execution_count": 22,
   "id": "26df0551",
   "metadata": {},
   "outputs": [
    {
     "name": "stdout",
     "output_type": "stream",
     "text": [
      "[[1. 1. 0. 0.]\n",
      " [1. 0. 1. 0.]\n",
      " [1. 0. 0. 1.]\n",
      " [0. 1. 1. 0.]\n",
      " [0. 1. 0. 1.]\n",
      " [0. 0. 1. 1.]]\n"
     ]
    }
   ],
   "source": [
    "def matrix_A(num_vars):\n",
    "    # Number of columns is the number of variables\n",
    "    cols = num_vars\n",
    "    # Number of rows is the number of all possible pair of the variables\n",
    "    rows = round(num_vars*(num_vars-1)/2)\n",
    "    A = np.zeros((rows, cols))\n",
    "\n",
    "    # All possible permutations of column entry\n",
    "    permutations = list(itertools.combinations(range(cols), 2))\n",
    "\n",
    "    # Generate matrix A by letting the two column entries in each permutation (row) equal to 1 \n",
    "    for i in range(len(permutations)):\n",
    "        A[i][permutations[i][0]] = 1\n",
    "        A[i][permutations[i][1]] = 1\n",
    "    return A\n",
    "\n",
    "print(matrix_A(4))"
   ]
  },
  {
   "cell_type": "markdown",
   "id": "38f8376f",
   "metadata": {},
   "source": [
    "#### Test"
   ]
  },
  {
   "cell_type": "code",
   "execution_count": 23,
   "id": "ed5b6bfc",
   "metadata": {},
   "outputs": [
    {
     "name": "stdout",
     "output_type": "stream",
     "text": [
      "========= Optimal Solutions =========\n",
      "Variable:\n",
      ">  x0 = 0.0\n",
      ">  x1 = 0.0\n",
      ">  x2 = 1.0\n",
      ">  x3 = -0.0\n",
      ">  x4 = -0.0\n",
      "Objective Function:\n",
      ">  f = 100.0\n",
      "Tree depth: 4\n"
     ]
    }
   ],
   "source": [
    "# Objective Function Coefficient \n",
    "c = np.array([20,20,100,70,60])\n",
    "\n",
    "# Constraint\n",
    "A = matrix_A(5)\n",
    "b = np.ones(10)\n",
    "\n",
    "\n",
    "# Lower bound for each constraint \n",
    "lb = [0, 0, 0, 0, 0]\n",
    "# Upper bound for each constraint \n",
    "ub = [1, 1, 1, 1, 1]\n",
    "\n",
    "x_optimal, f_optimal, depth_optimal = branch_and_bound(c, A, b, lb, ub, True)\n",
    "print(\"========= Optimal Solutions =========\")\n",
    "\n",
    "print(\"Variable:\")\n",
    "for idx, var in enumerate(x_optimal): \n",
    "    print(f\">  x{idx} = {var}\")\n",
    "\n",
    "print(\"Objective Function:\")\n",
    "print(f\">  f = {f_optimal}\")\n",
    "print(f\"Tree depth: {depth_optimal}\")"
   ]
  }
 ],
 "metadata": {
  "kernelspec": {
   "display_name": "base",
   "language": "python",
   "name": "python3"
  },
  "language_info": {
   "codemirror_mode": {
    "name": "ipython",
    "version": 3
   },
   "file_extension": ".py",
   "mimetype": "text/x-python",
   "name": "python",
   "nbconvert_exporter": "python",
   "pygments_lexer": "ipython3",
   "version": "3.12.7"
  }
 },
 "nbformat": 4,
 "nbformat_minor": 5
}
